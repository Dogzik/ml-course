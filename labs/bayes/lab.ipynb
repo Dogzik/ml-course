{
 "cells": [
  {
   "cell_type": "code",
   "execution_count": 46,
   "metadata": {},
   "outputs": [],
   "source": [
    "import numpy as np\n",
    "import sklearn as sk\n",
    "from os import listdir\n",
    "from os.path import isfile, join\n",
    "import sklearn.metrics as skmetrics\n",
    "from sklearn.model_selection import GridSearchCV\n",
    "from sklearn.base import BaseEstimator\n",
    "import math\n",
    "import matplotlib.pyplot as plt"
   ]
  },
  {
   "cell_type": "code",
   "execution_count": 11,
   "metadata": {},
   "outputs": [],
   "source": [
    "def read_file(filename):\n",
    "    with open(filename, \"r\") as f:\n",
    "        subject = f.readline().split()[1:]\n",
    "        f.readline()\n",
    "        body = f.readline().split()\n",
    "        distinct_words = subject + body\n",
    "        is_spam = \"spmsg\" in filename\n",
    "        return np.array(distinct_words), int(is_spam)"
   ]
  },
  {
   "cell_type": "code",
   "execution_count": 12,
   "metadata": {},
   "outputs": [],
   "source": [
    "def read_part(num):\n",
    "    dirname = \"part\" + str(num)\n",
    "    files = [dirname + \"/\" + f for f in listdir(dirname) if isfile(join(dirname, f))]\n",
    "    data = map(read_file, files)\n",
    "    unziped_data = list(zip(*data))\n",
    "    return list(unziped_data[0]), list(unziped_data[1])"
   ]
  },
  {
   "cell_type": "code",
   "execution_count": 13,
   "metadata": {},
   "outputs": [],
   "source": [
    "def read_all_parts():\n",
    "    X = []\n",
    "    y = []\n",
    "    for i in range(1, 11):\n",
    "        cur_X, cur_y = read_part(i)\n",
    "        X.extend(cur_X)\n",
    "        y.extend(cur_y)\n",
    "    return np.array(X), np.array(y)"
   ]
  },
  {
   "cell_type": "code",
   "execution_count": 14,
   "metadata": {},
   "outputs": [],
   "source": [
    "X, y = read_all_parts()"
   ]
  },
  {
   "cell_type": "code",
   "execution_count": 15,
   "metadata": {},
   "outputs": [],
   "source": [
    "# all probalities are repsresented as pairs of numinator(x[0]) and denuminator(x[1])\n",
    "class Bayes(BaseEstimator):\n",
    "    def __init__(self, alpha=1, lambdas=[1, 1]):\n",
    "        cnt = len(lambdas)\n",
    "        self.alpha = alpha\n",
    "        self.lambdas = lambdas\n",
    "        self.classes_cnt = cnt\n",
    "        self.classes_prob = None\n",
    "        self.words_prob = None\n",
    "        self.distinct_words = None\n",
    "        \n",
    "    def fit(self, X, y):\n",
    "        self.classes_prob = np.zeros((self.classes_cnt, 2), dtype=int)\n",
    "        self.distinct_words = np.zeros(self.classes_cnt, dtype=int)\n",
    "        self.words_prob = [{} for _ in range(self.classes_cnt)]\n",
    "        \n",
    "        default_word_prob = np.array([self.alpha, 0], dtype=int)\n",
    "        for i in range(X.shape[0]):\n",
    "            cur_words = set(X[i])\n",
    "            cur_class = y[i]\n",
    "            for word in cur_words:\n",
    "                self.words_prob[cur_class].setdefault(word, default_word_prob)\n",
    "                self.words_prob[cur_class][word][0] += 1\n",
    "            self.classes_prob[cur_class][0] += 1\n",
    "            \n",
    "        for cur_class in range(self.classes_cnt):\n",
    "            distinct = len(self.words_prob[cur_class])\n",
    "            self.distinct_words[cur_class] = distinct\n",
    "            self.classes_prob[cur_class][1] = self.classes_cnt\n",
    "            for word in self.words_prob[cur_class].keys():\n",
    "                self.words_prob[cur_class][word][1] = self.classes_prob[cur_class][0] + distinct * self.alpha\n",
    "                \n",
    "    \n",
    "    def get_prob(self, cur_class, word):\n",
    "        zero_numinator = self.alpha\n",
    "        zero_denuminator = self.classes_prob[cur_class][0] + self.alpha * self.distinct_words[cur_class]\n",
    "        zero_prob = np.array([zero_numinator, zero_denuminator])\n",
    "        return self.words_prob[cur_class].get(word, zero_prob)\n",
    "    \n",
    "    \n",
    "    def predict_one(self, cur_msg):\n",
    "        metrics = np.log(self.classes_prob)\n",
    "        cur_words = set(cur_msg)\n",
    "        for cur_class in range(self.classes_cnt):\n",
    "            metrics[cur_class][0] += math.log(self.lambdas[cur_class])\n",
    "            for word in cur_words:\n",
    "                metrics[cur_class] += np.log(self.get_prob(cur_class, word))\n",
    "        return np.argmax(metrics[0] - metrics[1])\n",
    "                \n",
    "    def predict(self, X):\n",
    "        return np.vectorize(self.predict_one)(X)"
   ]
  },
  {
   "cell_type": "code",
   "execution_count": 21,
   "metadata": {},
   "outputs": [],
   "source": [
    "def get_score(y_true, y_pred):\n",
    "    tmp = y_true - y_pred\n",
    "    if -1 in tmp:\n",
    "        return -np.inf\n",
    "    else:\n",
    "        return skmetrics.accuracy_score(y_true, y_pred)\n",
    "my_scorer = skmetrics.make_scorer(get_score)"
   ]
  },
  {
   "cell_type": "code",
   "execution_count": 29,
   "metadata": {},
   "outputs": [
    {
     "data": {
      "text/plain": [
       "GridSearchCV(cv=10, error_score='raise-deprecating',\n",
       "             estimator=Bayes(alpha=1, lambdas=[1, 1]), iid='warn', n_jobs=7,\n",
       "             param_grid={'alpha': [1, 2, 4, 8, 16, 32, 64, 128, 256, 512, 1024,\n",
       "                                   2048, 4096, 8192, 16384]},\n",
       "             pre_dispatch='2*n_jobs', refit=True, return_train_score=False,\n",
       "             scoring='accuracy', verbose=0)"
      ]
     },
     "execution_count": 29,
     "metadata": {},
     "output_type": "execute_result"
    }
   ],
   "source": [
    "parameters_acc = {\n",
    "    'alpha': [2 ** i for i in range(0, 15)],\n",
    "}\n",
    "clf_acc = GridSearchCV(Bayes(), parameters_acc, cv=10, n_jobs=7, scoring='accuracy')\n",
    "clf_acc.fit(X, y)"
   ]
  },
  {
   "cell_type": "code",
   "execution_count": 30,
   "metadata": {},
   "outputs": [
    {
     "name": "stdout",
     "output_type": "stream",
     "text": [
      "{'alpha': 4096}\n",
      "0.9779816513761468\n"
     ]
    }
   ],
   "source": [
    "print(clf_acc.best_params_)\n",
    "print(clf_acc.best_score_)"
   ]
  },
  {
   "cell_type": "code",
   "execution_count": 31,
   "metadata": {
    "scrolled": false
   },
   "outputs": [
    {
     "data": {
      "text/plain": [
       "GridSearchCV(cv=10, error_score='raise-deprecating',\n",
       "             estimator=Bayes(alpha=1, lambdas=[1, 1]), iid='warn', n_jobs=7,\n",
       "             param_grid={'alpha': [1, 2, 4, 8, 16, 32, 64, 128, 256, 512, 1024,\n",
       "                                   2048, 4096, 8192, 16384]},\n",
       "             pre_dispatch='2*n_jobs', refit=True, return_train_score=False,\n",
       "             scoring='f1', verbose=0)"
      ]
     },
     "execution_count": 31,
     "metadata": {},
     "output_type": "execute_result"
    }
   ],
   "source": [
    "parameters_f1 = {\n",
    "    'alpha': [2 ** i for i in range(0, 15)],\n",
    "}\n",
    "clf_f1 = GridSearchCV(Bayes(), parameters_f1, cv=10, n_jobs=7, scoring='f1')\n",
    "clf_f1.fit(X, y)"
   ]
  },
  {
   "cell_type": "code",
   "execution_count": 32,
   "metadata": {},
   "outputs": [
    {
     "name": "stdout",
     "output_type": "stream",
     "text": [
      "{'alpha': 4096}\n",
      "0.974614620931531\n"
     ]
    }
   ],
   "source": [
    "print(clf_f1.best_params_)\n",
    "print(clf_f1.best_score_)"
   ]
  },
  {
   "cell_type": "code",
   "execution_count": 38,
   "metadata": {},
   "outputs": [
    {
     "name": "stderr",
     "output_type": "stream",
     "text": [
      "/home/dogzik/anaconda3/lib/python3.7/site-packages/sklearn/model_selection/_search.py:763: RuntimeWarning: invalid value encountered in subtract\n",
      "  array_means[:, np.newaxis]) ** 2,\n"
     ]
    },
    {
     "data": {
      "text/plain": [
       "GridSearchCV(cv=10, error_score='raise-deprecating',\n",
       "             estimator=Bayes(alpha=1, lambdas=[1, 1]), iid='warn', n_jobs=7,\n",
       "             param_grid={'alpha': [0.001, 0.01, 0.1, 1, 10, 100, 1000],\n",
       "                         'lambdas': [[1, 1], [10, 1], [100, 1], [1000, 1],\n",
       "                                     [10000, 1], [100000, 1], [1000000, 1],\n",
       "                                     [10000000, 1], [100000000, 1],\n",
       "                                     [1000000000, 1], [10000000000, 1],\n",
       "                                     [100000000000, 1], [1000000000000, 1],\n",
       "                                     [10000000000000, 1], [10...\n",
       "                                     [10000000000000000000000, 1],\n",
       "                                     [100000000000000000000000, 1],\n",
       "                                     [1000000000000000000000000, 1],\n",
       "                                     [10000000000000000000000000, 1],\n",
       "                                     [100000000000000000000000000, 1],\n",
       "                                     [1000000000000000000000000000, 1],\n",
       "                                     [10000000000000000000000000000, 1],\n",
       "                                     [100000000000000000000000000000, 1], ...]},\n",
       "             pre_dispatch='2*n_jobs', refit=True, return_train_score=False,\n",
       "             scoring=make_scorer(get_score), verbose=0)"
      ]
     },
     "execution_count": 38,
     "metadata": {},
     "output_type": "execute_result"
    }
   ],
   "source": [
    "parameters_acc_no_fp = {\n",
    "    'alpha': [10 ** i for i in range(-3, 4)],\n",
    "    'lambdas': [[10 ** i, 1] for i in range(60)],\n",
    "}\n",
    "clf_acc_no_fp = GridSearchCV(Bayes(), parameters_acc_no_fp, cv=10, n_jobs=7, scoring=my_scorer)\n",
    "clf_acc_no_fp.fit(X, y)"
   ]
  },
  {
   "cell_type": "code",
   "execution_count": 39,
   "metadata": {},
   "outputs": [
    {
     "name": "stdout",
     "output_type": "stream",
     "text": [
      "{'alpha': 1, 'lambdas': [100000000000000000000000000000000000000000000000000000000, 1]}\n",
      "0.7770642201834862\n"
     ]
    }
   ],
   "source": [
    "print(clf_acc_no_fp.best_params_)\n",
    "print(clf_acc_no_fp.best_score_)"
   ]
  },
  {
   "cell_type": "code",
   "execution_count": 57,
   "metadata": {},
   "outputs": [
    {
     "name": "stdout",
     "output_type": "stream",
     "text": [
      "Fitting 10 folds for each of 60 candidates, totalling 600 fits\n"
     ]
    },
    {
     "name": "stderr",
     "output_type": "stream",
     "text": [
      "[Parallel(n_jobs=7)]: Using backend LokyBackend with 7 concurrent workers.\n",
      "[Parallel(n_jobs=7)]: Done  36 tasks      | elapsed:   10.3s\n",
      "[Parallel(n_jobs=7)]: Done 186 tasks      | elapsed:   53.1s\n",
      "[Parallel(n_jobs=7)]: Done 436 tasks      | elapsed:  2.1min\n",
      "[Parallel(n_jobs=7)]: Done 600 out of 600 | elapsed:  2.9min finished\n"
     ]
    },
    {
     "data": {
      "text/plain": [
       "GridSearchCV(cv=10, error_score='raise-deprecating',\n",
       "             estimator=Bayes(alpha=1, lambdas=[1, 1]), iid='warn', n_jobs=7,\n",
       "             param_grid={'alpha': [1],\n",
       "                         'lambdas': [[1, 1], [10, 1], [100, 1], [1000, 1],\n",
       "                                     [10000, 1], [100000, 1], [1000000, 1],\n",
       "                                     [10000000, 1], [100000000, 1],\n",
       "                                     [1000000000, 1], [10000000000, 1],\n",
       "                                     [100000000000, 1], [1000000000000, 1],\n",
       "                                     [10000000000000, 1], [100000000000000, 1],\n",
       "                                     [100000000...\n",
       "                                     [10000000000000000000000, 1],\n",
       "                                     [100000000000000000000000, 1],\n",
       "                                     [1000000000000000000000000, 1],\n",
       "                                     [10000000000000000000000000, 1],\n",
       "                                     [100000000000000000000000000, 1],\n",
       "                                     [1000000000000000000000000000, 1],\n",
       "                                     [10000000000000000000000000000, 1],\n",
       "                                     [100000000000000000000000000000, 1], ...]},\n",
       "             pre_dispatch='2*n_jobs', refit='f1', return_train_score=False,\n",
       "             scoring=['accuracy', 'f1'], verbose=1)"
      ]
     },
     "execution_count": 57,
     "metadata": {},
     "output_type": "execute_result"
    }
   ],
   "source": [
    "parameters_chart = {\n",
    "    'alpha': [1],\n",
    "    'lambdas': [[10 ** i, 1] for i in range(60)],\n",
    "}\n",
    "clf_chart = GridSearchCV(Bayes(), parameters_chart, cv=10, scoring=['accuracy', 'f1'], refit='f1',\n",
    "                         n_jobs=7, verbose=1)\n",
    "clf_chart.fit(X, y)"
   ]
  },
  {
   "cell_type": "code",
   "execution_count": 59,
   "metadata": {
    "scrolled": true
   },
   "outputs": [],
   "source": [
    "xx = list(map(lambda t: t[0], parameters_chart['lambdas']))\n",
    "yy_acc = clf_chart.cv_results_[\"mean_test_accuracy\"]\n",
    "yy_f1 = clf_chart.cv_results_[\"mean_test_f1\"]"
   ]
  },
  {
   "cell_type": "code",
   "execution_count": 64,
   "metadata": {},
   "outputs": [
    {
     "data": {
      "image/png": "[encoded data removed]",
      "text/plain": [
       "<Figure size 1152x648 with 1 Axes>"
      ]
     },
     "metadata": {
      "needs_background": "light"
     },
     "output_type": "display_data"
    }
   ],
   "source": [
    "plt.figure(figsize=(16,9))\n",
    "plt.grid(linestyle='--')\n",
    "plt.semilogx(xx, yy_acc, linestyle='-',marker='.',color='r', label='Accuracy')\n",
    "plt.semilogx(xx, yy_f1, linestyle='-',marker='.',color='b', label='F1 score')\n",
    "plt.xlabel('Шраф за легитимные сообщения')\n",
    "plt.ylabel('Значение метрики')\n",
    "plt.legend()\n",
    "plt.show()"
   ]
  },
  {
   "cell_type": "code",
   "execution_count": null,
   "metadata": {},
   "outputs": [],
   "source": []
  }
 ],
 "metadata": {
  "kernelspec": {
   "display_name": "Python 3",
   "language": "python",
   "name": "python3"
  },
  "language_info": {
   "codemirror_mode": {
    "name": "ipython",
    "version": 3
   },
   "file_extension": ".py",
   "mimetype": "text/x-python",
   "name": "python",
   "nbconvert_exporter": "python",
   "pygments_lexer": "ipython3",
   "version": "3.7.3"
  }
 },
 "nbformat": 4,
 "nbformat_minor": 2
}
