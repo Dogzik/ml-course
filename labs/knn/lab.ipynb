{
 "cells": [
  {
   "cell_type": "code",
   "execution_count": 1,
   "metadata": {},
   "outputs": [],
   "source": [
    "import numpy as np\n",
    "import pandas as pd\n",
    "from tqdm import tqdm\n",
    "import matplotlib.pyplot as plt\n",
    "import metric_classifier"
   ]
  },
  {
   "cell_type": "code",
   "execution_count": 2,
   "metadata": {},
   "outputs": [
    {
     "data": {
      "text/html": [
       "<div>\n",
       "<style scoped>\n",
       "    .dataframe tbody tr th:only-of-type {\n",
       "        vertical-align: middle;\n",
       "    }\n",
       "\n",
       "    .dataframe tbody tr th {\n",
       "        vertical-align: top;\n",
       "    }\n",
       "\n",
       "    .dataframe thead th {\n",
       "        text-align: right;\n",
       "    }\n",
       "</style>\n",
       "<table border=\"1\" class=\"dataframe\">\n",
       "  <thead>\n",
       "    <tr style=\"text-align: right;\">\n",
       "      <th></th>\n",
       "      <th>V1</th>\n",
       "      <th>V2</th>\n",
       "      <th>V3</th>\n",
       "      <th>V4</th>\n",
       "      <th>V5</th>\n",
       "      <th>Class</th>\n",
       "    </tr>\n",
       "  </thead>\n",
       "  <tbody>\n",
       "    <tr>\n",
       "      <td>0</td>\n",
       "      <td>0.00</td>\n",
       "      <td>0.00</td>\n",
       "      <td>0.00</td>\n",
       "      <td>0.00</td>\n",
       "      <td>0.00</td>\n",
       "      <td>4</td>\n",
       "    </tr>\n",
       "    <tr>\n",
       "      <td>1</td>\n",
       "      <td>0.08</td>\n",
       "      <td>0.08</td>\n",
       "      <td>0.10</td>\n",
       "      <td>0.24</td>\n",
       "      <td>0.90</td>\n",
       "      <td>1</td>\n",
       "    </tr>\n",
       "    <tr>\n",
       "      <td>2</td>\n",
       "      <td>0.06</td>\n",
       "      <td>0.06</td>\n",
       "      <td>0.05</td>\n",
       "      <td>0.25</td>\n",
       "      <td>0.33</td>\n",
       "      <td>2</td>\n",
       "    </tr>\n",
       "    <tr>\n",
       "      <td>3</td>\n",
       "      <td>0.10</td>\n",
       "      <td>0.10</td>\n",
       "      <td>0.15</td>\n",
       "      <td>0.65</td>\n",
       "      <td>0.30</td>\n",
       "      <td>3</td>\n",
       "    </tr>\n",
       "    <tr>\n",
       "      <td>4</td>\n",
       "      <td>0.08</td>\n",
       "      <td>0.08</td>\n",
       "      <td>0.08</td>\n",
       "      <td>0.98</td>\n",
       "      <td>0.24</td>\n",
       "      <td>2</td>\n",
       "    </tr>\n",
       "  </tbody>\n",
       "</table>\n",
       "</div>"
      ],
      "text/plain": [
       "     V1    V2    V3    V4    V5  Class\n",
       "0  0.00  0.00  0.00  0.00  0.00      4\n",
       "1  0.08  0.08  0.10  0.24  0.90      1\n",
       "2  0.06  0.06  0.05  0.25  0.33      2\n",
       "3  0.10  0.10  0.15  0.65  0.30      3\n",
       "4  0.08  0.08  0.08  0.98  0.24      2"
      ]
     },
     "execution_count": 2,
     "metadata": {},
     "output_type": "execute_result"
    }
   ],
   "source": [
    "data = pd.read_csv('dataset_user_knowledge.csv')\n",
    "data.head()"
   ]
  },
  {
   "cell_type": "code",
   "execution_count": 3,
   "metadata": {},
   "outputs": [
    {
     "data": {
      "text/html": [
       "<div>\n",
       "<style scoped>\n",
       "    .dataframe tbody tr th:only-of-type {\n",
       "        vertical-align: middle;\n",
       "    }\n",
       "\n",
       "    .dataframe tbody tr th {\n",
       "        vertical-align: top;\n",
       "    }\n",
       "\n",
       "    .dataframe thead th {\n",
       "        text-align: right;\n",
       "    }\n",
       "</style>\n",
       "<table border=\"1\" class=\"dataframe\">\n",
       "  <thead>\n",
       "    <tr style=\"text-align: right;\">\n",
       "      <th></th>\n",
       "      <th>V1</th>\n",
       "      <th>V2</th>\n",
       "      <th>V3</th>\n",
       "      <th>V4</th>\n",
       "      <th>V5</th>\n",
       "    </tr>\n",
       "  </thead>\n",
       "  <tbody>\n",
       "    <tr>\n",
       "      <td>0</td>\n",
       "      <td>0.00</td>\n",
       "      <td>0.00</td>\n",
       "      <td>0.00</td>\n",
       "      <td>0.00</td>\n",
       "      <td>0.00</td>\n",
       "    </tr>\n",
       "    <tr>\n",
       "      <td>1</td>\n",
       "      <td>0.08</td>\n",
       "      <td>0.08</td>\n",
       "      <td>0.10</td>\n",
       "      <td>0.24</td>\n",
       "      <td>0.90</td>\n",
       "    </tr>\n",
       "    <tr>\n",
       "      <td>2</td>\n",
       "      <td>0.06</td>\n",
       "      <td>0.06</td>\n",
       "      <td>0.05</td>\n",
       "      <td>0.25</td>\n",
       "      <td>0.33</td>\n",
       "    </tr>\n",
       "    <tr>\n",
       "      <td>3</td>\n",
       "      <td>0.10</td>\n",
       "      <td>0.10</td>\n",
       "      <td>0.15</td>\n",
       "      <td>0.65</td>\n",
       "      <td>0.30</td>\n",
       "    </tr>\n",
       "    <tr>\n",
       "      <td>4</td>\n",
       "      <td>0.08</td>\n",
       "      <td>0.08</td>\n",
       "      <td>0.08</td>\n",
       "      <td>0.98</td>\n",
       "      <td>0.24</td>\n",
       "    </tr>\n",
       "  </tbody>\n",
       "</table>\n",
       "</div>"
      ],
      "text/plain": [
       "     V1    V2    V3    V4    V5\n",
       "0  0.00  0.00  0.00  0.00  0.00\n",
       "1  0.08  0.08  0.10  0.24  0.90\n",
       "2  0.06  0.06  0.05  0.25  0.33\n",
       "3  0.10  0.10  0.15  0.65  0.30\n",
       "4  0.08  0.08  0.08  0.98  0.24"
      ]
     },
     "execution_count": 3,
     "metadata": {},
     "output_type": "execute_result"
    }
   ],
   "source": [
    "X = data[data.columns[:-1]]\n",
    "X.head()"
   ]
  },
  {
   "cell_type": "code",
   "execution_count": 4,
   "metadata": {},
   "outputs": [
    {
     "data": {
      "text/plain": [
       "{1: 102, 2: 129, 3: 122, 4: 24, 5: 26}"
      ]
     },
     "execution_count": 4,
     "metadata": {},
     "output_type": "execute_result"
    }
   ],
   "source": [
    "classes, counts = np.unique(data.Class, return_counts=True)\n",
    "dict(zip(classes, counts))"
   ]
  },
  {
   "cell_type": "code",
   "execution_count": 5,
   "metadata": {},
   "outputs": [
    {
     "data": {
      "text/plain": [
       "0    3\n",
       "1    0\n",
       "2    1\n",
       "3    2\n",
       "4    1\n",
       "Name: Class, dtype: int64"
      ]
     },
     "execution_count": 5,
     "metadata": {},
     "output_type": "execute_result"
    }
   ],
   "source": [
    "y = data.Class.apply(lambda status: np.where(classes == status)[0][0])\n",
    "y.head()"
   ]
  },
  {
   "cell_type": "code",
   "execution_count": 6,
   "metadata": {},
   "outputs": [],
   "source": [
    "means = X.mean()\n",
    "stds = X.std()"
   ]
  },
  {
   "cell_type": "code",
   "execution_count": 7,
   "metadata": {},
   "outputs": [
    {
     "data": {
      "text/plain": [
       "V1    0.353141\n",
       "V2    0.355940\n",
       "V3    0.457655\n",
       "V4    0.431342\n",
       "V5    0.456360\n",
       "dtype: float64"
      ]
     },
     "execution_count": 7,
     "metadata": {},
     "output_type": "execute_result"
    }
   ],
   "source": [
    "means"
   ]
  },
  {
   "cell_type": "code",
   "execution_count": 8,
   "metadata": {},
   "outputs": [
    {
     "data": {
      "text/plain": [
       "V1    0.212018\n",
       "V2    0.215531\n",
       "V3    0.246684\n",
       "V4    0.257545\n",
       "V5    0.266775\n",
       "dtype: float64"
      ]
     },
     "execution_count": 8,
     "metadata": {},
     "output_type": "execute_result"
    }
   ],
   "source": [
    "stds"
   ]
  },
  {
   "cell_type": "code",
   "execution_count": 9,
   "metadata": {},
   "outputs": [
    {
     "data": {
      "text/html": [
       "<div>\n",
       "<style scoped>\n",
       "    .dataframe tbody tr th:only-of-type {\n",
       "        vertical-align: middle;\n",
       "    }\n",
       "\n",
       "    .dataframe tbody tr th {\n",
       "        vertical-align: top;\n",
       "    }\n",
       "\n",
       "    .dataframe thead th {\n",
       "        text-align: right;\n",
       "    }\n",
       "</style>\n",
       "<table border=\"1\" class=\"dataframe\">\n",
       "  <thead>\n",
       "    <tr style=\"text-align: right;\">\n",
       "      <th></th>\n",
       "      <th>V1</th>\n",
       "      <th>V2</th>\n",
       "      <th>V3</th>\n",
       "      <th>V4</th>\n",
       "      <th>V5</th>\n",
       "    </tr>\n",
       "  </thead>\n",
       "  <tbody>\n",
       "    <tr>\n",
       "      <td>0</td>\n",
       "      <td>-1.665623</td>\n",
       "      <td>-1.651461</td>\n",
       "      <td>-1.855232</td>\n",
       "      <td>-1.674824</td>\n",
       "      <td>-1.710652</td>\n",
       "    </tr>\n",
       "    <tr>\n",
       "      <td>1</td>\n",
       "      <td>-1.288296</td>\n",
       "      <td>-1.280284</td>\n",
       "      <td>-1.449854</td>\n",
       "      <td>-0.742948</td>\n",
       "      <td>1.662973</td>\n",
       "    </tr>\n",
       "    <tr>\n",
       "      <td>2</td>\n",
       "      <td>-1.382628</td>\n",
       "      <td>-1.373078</td>\n",
       "      <td>-1.652543</td>\n",
       "      <td>-0.704120</td>\n",
       "      <td>-0.473656</td>\n",
       "    </tr>\n",
       "    <tr>\n",
       "      <td>3</td>\n",
       "      <td>-1.193964</td>\n",
       "      <td>-1.187490</td>\n",
       "      <td>-1.247165</td>\n",
       "      <td>0.849007</td>\n",
       "      <td>-0.586110</td>\n",
       "    </tr>\n",
       "    <tr>\n",
       "      <td>4</td>\n",
       "      <td>-1.288296</td>\n",
       "      <td>-1.280284</td>\n",
       "      <td>-1.530930</td>\n",
       "      <td>2.130337</td>\n",
       "      <td>-0.811018</td>\n",
       "    </tr>\n",
       "  </tbody>\n",
       "</table>\n",
       "</div>"
      ],
      "text/plain": [
       "         V1        V2        V3        V4        V5\n",
       "0 -1.665623 -1.651461 -1.855232 -1.674824 -1.710652\n",
       "1 -1.288296 -1.280284 -1.449854 -0.742948  1.662973\n",
       "2 -1.382628 -1.373078 -1.652543 -0.704120 -0.473656\n",
       "3 -1.193964 -1.187490 -1.247165  0.849007 -0.586110\n",
       "4 -1.288296 -1.280284 -1.530930  2.130337 -0.811018"
      ]
     },
     "execution_count": 9,
     "metadata": {},
     "output_type": "execute_result"
    }
   ],
   "source": [
    "def norm_column(column):\n",
    "    return (X.loc[:, column] - means[column]) / stds[column]\n",
    "\n",
    "\n",
    "X_norm = pd.DataFrame(dict([(column, norm_column(column)) for column in X.columns]))\n",
    "X_norm.head()"
   ]
  },
  {
   "cell_type": "code",
   "execution_count": 10,
   "metadata": {},
   "outputs": [
    {
     "data": {
      "text/plain": [
       "V1   -2.936719e-16\n",
       "V2   -1.645775e-15\n",
       "V3    7.834924e-16\n",
       "V4   -6.545633e-16\n",
       "V5   -4.049697e-17\n",
       "dtype: float64"
      ]
     },
     "execution_count": 10,
     "metadata": {},
     "output_type": "execute_result"
    }
   ],
   "source": [
    "X_norm.mean()"
   ]
  },
  {
   "cell_type": "code",
   "execution_count": 11,
   "metadata": {},
   "outputs": [
    {
     "data": {
      "text/plain": [
       "V1    1.0\n",
       "V2    1.0\n",
       "V3    1.0\n",
       "V4    1.0\n",
       "V5    1.0\n",
       "dtype: float64"
      ]
     },
     "execution_count": 11,
     "metadata": {},
     "output_type": "execute_result"
    }
   ],
   "source": [
    "X_norm.std()"
   ]
  },
  {
   "cell_type": "code",
   "execution_count": 12,
   "metadata": {},
   "outputs": [],
   "source": [
    "X = X_norm"
   ]
  },
  {
   "cell_type": "code",
   "execution_count": 13,
   "metadata": {},
   "outputs": [],
   "source": [
    "def get_class(kernel_type, distance_type, window_type, window_param, X, y, argument):\n",
    "    weights = metric_classifier.calc_class_weight(kernel_type, distance_type, window_type,\n",
    "                                                  window_param, X, y, argument)\n",
    "    return weights.index(max(weights))"
   ]
  },
  {
   "cell_type": "code",
   "execution_count": 23,
   "metadata": {},
   "outputs": [],
   "source": [
    "def get_confusion_matrix(kernel_type, distance_type, window_type, window_param):\n",
    "    classes_cnt = len(y.unique())\n",
    "    ans = [[0 for j in range(classes_cnt)] for i in range(classes_cnt)]\n",
    "    for cur_idx in range(data.shape[0]):\n",
    "        true_class = y[cur_idx]\n",
    "        argument = X.loc[cur_idx]\n",
    "        X_train = X.drop([cur_idx])\n",
    "        y_train = y.drop([cur_idx])\n",
    "        predicted_class = get_class(kernel_type, distance_type, window_type, window_param,\n",
    "                                    X_train.values, y_train, argument)\n",
    "        ans[true_class][predicted_class] += 1\n",
    "    return ans"
   ]
  },
  {
   "cell_type": "code",
   "execution_count": 24,
   "metadata": {},
   "outputs": [],
   "source": [
    "def get_f_score(cm):\n",
    "    k = len(cm)\n",
    "    \n",
    "    def get_class_cnt(idx):\n",
    "        return sum(cm[idx])\n",
    "\n",
    "\n",
    "    def get_precision_and_recall(idx):\n",
    "        tp = cm[idx][idx]\n",
    "        tp_fp = sum([cm[j][idx] for j in range(k)])\n",
    "        tp_fn = get_class_cnt(idx)\n",
    "        precision = 0 if tp_fp == 0 else tp / tp_fp\n",
    "        recall = 0 if tp_fn == 0 else tp / tp_fn\n",
    "        return precision, recall\n",
    "\n",
    "\n",
    "    def calc_f_score(precision, recall):\n",
    "        if precision + recall == 0:\n",
    "            return 0\n",
    "        else:\n",
    "            return 2 * precision * recall / (precision + recall)\n",
    "\n",
    "\n",
    "    def get_f_score(idx):\n",
    "        precision, recall = get_precision_and_recall(idx)\n",
    "        return calc_f_score(precision, recall)\n",
    "    \n",
    "    \n",
    "    total_cnt = sum([sum(cm[i]) for i in range(k)])\n",
    "    macro_f_score = sum([get_f_score(i) * get_class_cnt(i) for i in range(k)]) / total_cnt\n",
    "    micro_precision = sum([get_precision_and_recall(i)[0] * get_class_cnt(i) for i in range(k)]) / total_cnt\n",
    "    micro_recall = sum([get_precision_and_recall(i)[1] * get_class_cnt(i) for i in range(k)]) / total_cnt\n",
    "    micro_f_score = calc_f_score(micro_precision, micro_recall)\n",
    "    return micro_f_score"
   ]
  },
  {
   "cell_type": "code",
   "execution_count": 20,
   "metadata": {},
   "outputs": [
    {
     "data": {
      "text/plain": [
       "4.232354557741518"
      ]
     },
     "execution_count": 20,
     "metadata": {},
     "output_type": "execute_result"
    }
   ],
   "source": [
    "distances = []\n",
    "for first_index in range(X.shape[0]):\n",
    "    for second_index in range(X.shape[0]):\n",
    "        first = X.loc[first_index].values\n",
    "        second = X.loc[second_index].values\n",
    "        distances.append(metric_classifier.calc_dist(metric_classifier.DistanceType.EUCLIDEAN, first, second))\n",
    "distances.sort()\n",
    "total_dists = len(distances)\n",
    "distances[int(0.90 * total_dists)]"
   ]
  },
  {
   "cell_type": "code",
   "execution_count": 25,
   "metadata": {},
   "outputs": [],
   "source": [
    "def params_gen():\n",
    "    for kernel_type in metric_classifier.KernelType:\n",
    "        for distance_type in metric_classifier.DistanceType:\n",
    "            for window_type in metric_classifier.WindowType:\n",
    "                if window_type == metric_classifier.WindowType.FIXED:\n",
    "                    window_params = np.linspace(0.1, 4, 10)\n",
    "                else:\n",
    "                    window_params = range(1, 101, 10)\n",
    "                for window_param in window_params:\n",
    "                    yield (kernel_type, distance_type, window_type, window_param)"
   ]
  },
  {
   "cell_type": "code",
   "execution_count": 26,
   "metadata": {},
   "outputs": [
    {
     "name": "stderr",
     "output_type": "stream",
     "text": [
      "100%|██████████| 600/600 [26:18<00:00,  2.63s/it]\n"
     ]
    }
   ],
   "source": [
    "max_f_score = -1\n",
    "best_kernel_type = None\n",
    "best_distance_type = None\n",
    "best_window_type = None\n",
    "best_window_param = None\n",
    "for kernel_type, distance_type, window_type, window_param in tqdm(list(params_gen())):\n",
    "    confusin_matrix = get_confusion_matrix(kernel_type, distance_type, window_type, window_param)\n",
    "    cur_f_score = get_f_score(confusin_matrix)\n",
    "    if cur_f_score > max_f_score:\n",
    "        max_f_score = cur_f_score\n",
    "        best_kernel_type = kernel_type\n",
    "        best_distance_type = distance_type\n",
    "        best_window_type = window_type\n",
    "        best_window_param = window_param"
   ]
  },
  {
   "cell_type": "code",
   "execution_count": 27,
   "metadata": {},
   "outputs": [
    {
     "data": {
      "text/plain": [
       "(0.8557146559202522,\n",
       " <KernelType.TRIWEIGHT: 'triweight'>,\n",
       " <DistanceType.MANHATTAN: 'manhattan'>,\n",
       " <WindowType.VARIABLE: 'variable'>,\n",
       " 41)"
      ]
     },
     "execution_count": 27,
     "metadata": {},
     "output_type": "execute_result"
    }
   ],
   "source": [
    "max_f_score, best_kernel_type, best_distance_type, best_window_type, best_window_param"
   ]
  },
  {
   "cell_type": "code",
   "execution_count": 61,
   "metadata": {},
   "outputs": [
    {
     "name": "stderr",
     "output_type": "stream",
     "text": [
      "100%|██████████| 80/80 [03:21<00:00,  2.52s/it]\n"
     ]
    }
   ],
   "source": [
    "f_scores_fixed = []\n",
    "h_fixed = np.linspace(0.1, 5, 80)\n",
    "for h in tqdm(h_fixed):\n",
    "    confusin_matrix = get_confusion_matrix(best_kernel_type, best_distance_type, metric_classifier.WindowType.FIXED, h)\n",
    "    cur_f_score = get_f_score(confusin_matrix)\n",
    "    f_scores_fixed.append(cur_f_score)"
   ]
  },
  {
   "cell_type": "code",
   "execution_count": 63,
   "metadata": {},
   "outputs": [
    {
     "name": "stderr",
     "output_type": "stream",
     "text": [
      "100%|██████████| 100/100 [04:05<00:00,  2.45s/it]\n"
     ]
    }
   ],
   "source": [
    "f_scores_variable = []\n",
    "k_variable = range(1, 201, 2)\n",
    "for k in tqdm(k_variable):\n",
    "    confusin_matrix = get_confusion_matrix(best_kernel_type, best_distance_type, metric_classifier.WindowType.VARIABLE, k)\n",
    "    cur_f_score = get_f_score(confusin_matrix)\n",
    "    f_scores_variable.append(cur_f_score)"
   ]
  },
  {
   "cell_type": "code",
   "execution_count": 62,
   "metadata": {},
   "outputs": [
    {
     "data": {
      "text/plain": [
       "[<matplotlib.lines.Line2D at 0x7fab85e806d8>]"
      ]
     },
     "execution_count": 62,
     "metadata": {},
     "output_type": "execute_result"
    },
    {
     "data": {
      "image/png": "[encoded data removed]",
      "text/plain": [
       "<Figure size 432x288 with 1 Axes>"
      ]
     },
     "metadata": {
      "needs_background": "light"
     },
     "output_type": "display_data"
    }
   ],
   "source": [
    "plt.plot(h_fixed, f_scores_fixed)"
   ]
  },
  {
   "cell_type": "code",
   "execution_count": 64,
   "metadata": {},
   "outputs": [
    {
     "data": {
      "text/plain": [
       "[<matplotlib.lines.Line2D at 0x7fab85e66438>]"
      ]
     },
     "execution_count": 64,
     "metadata": {},
     "output_type": "execute_result"
    },
    {
     "data": {
      "image/png": "[encoded data removed]",
      "text/plain": [
       "<Figure size 432x288 with 1 Axes>"
      ]
     },
     "metadata": {
      "needs_background": "light"
     },
     "output_type": "display_data"
    }
   ],
   "source": [
    "plt.plot(k_variable, f_scores_variable)"
   ]
  },
  {
   "cell_type": "code",
   "execution_count": null,
   "metadata": {},
   "outputs": [],
   "source": []
  }
 ],
 "metadata": {
  "kernelspec": {
   "display_name": "Python 3",
   "language": "python",
   "name": "python3"
  },
  "language_info": {
   "codemirror_mode": {
    "name": "ipython",
    "version": 3
   },
   "file_extension": ".py",
   "mimetype": "text/x-python",
   "name": "python",
   "nbconvert_exporter": "python",
   "pygments_lexer": "ipython3",
   "version": "3.7.3"
  }
 },
 "nbformat": 4,
 "nbformat_minor": 2
}
